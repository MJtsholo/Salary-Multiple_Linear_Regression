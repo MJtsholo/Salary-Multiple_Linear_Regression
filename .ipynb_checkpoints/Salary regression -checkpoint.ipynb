{
 "cells": [
  {
   "cell_type": "code",
   "execution_count": 1,
   "metadata": {},
   "outputs": [],
   "source": [
    "import numpy as np\n",
    "import pandas as pd\n",
    "import matplotlib.pyplot as plt\n",
    "import statsmodels.api as sm\n",
    "import statsmodels.formula.api as smf\n",
    "%matplotlib inline\n",
    "from sklearn import datasets, linear_model\n",
    "from sklearn.linear_model import LinearRegression\n",
    "from sklearn.model_selection import train_test_split\n",
    "import seaborn as sns"
   ]
  },
  {
   "cell_type": "code",
   "execution_count": 2,
   "metadata": {},
   "outputs": [
    {
     "data": {
      "text/html": [
       "<div>\n",
       "<style scoped>\n",
       "    .dataframe tbody tr th:only-of-type {\n",
       "        vertical-align: middle;\n",
       "    }\n",
       "\n",
       "    .dataframe tbody tr th {\n",
       "        vertical-align: top;\n",
       "    }\n",
       "\n",
       "    .dataframe thead th {\n",
       "        text-align: right;\n",
       "    }\n",
       "</style>\n",
       "<table border=\"1\" class=\"dataframe\">\n",
       "  <thead>\n",
       "    <tr style=\"text-align: right;\">\n",
       "      <th></th>\n",
       "      <th>salary</th>\n",
       "      <th>exprior</th>\n",
       "      <th>yearsworked</th>\n",
       "      <th>yearsrank</th>\n",
       "      <th>market</th>\n",
       "      <th>Field</th>\n",
       "      <th>yearsabs</th>\n",
       "    </tr>\n",
       "  </thead>\n",
       "  <tbody>\n",
       "    <tr>\n",
       "      <th>0</th>\n",
       "      <td>53000.0</td>\n",
       "      <td>0</td>\n",
       "      <td>0</td>\n",
       "      <td>0</td>\n",
       "      <td>1.17</td>\n",
       "      <td>3</td>\n",
       "      <td>0</td>\n",
       "    </tr>\n",
       "    <tr>\n",
       "      <th>1</th>\n",
       "      <td>58000.0</td>\n",
       "      <td>1</td>\n",
       "      <td>0</td>\n",
       "      <td>0</td>\n",
       "      <td>1.24</td>\n",
       "      <td>2</td>\n",
       "      <td>0</td>\n",
       "    </tr>\n",
       "    <tr>\n",
       "      <th>2</th>\n",
       "      <td>45500.0</td>\n",
       "      <td>0</td>\n",
       "      <td>0</td>\n",
       "      <td>0</td>\n",
       "      <td>1.21</td>\n",
       "      <td>3</td>\n",
       "      <td>2</td>\n",
       "    </tr>\n",
       "    <tr>\n",
       "      <th>3</th>\n",
       "      <td>35782.0</td>\n",
       "      <td>0</td>\n",
       "      <td>2</td>\n",
       "      <td>1</td>\n",
       "      <td>0.99</td>\n",
       "      <td>4</td>\n",
       "      <td>1</td>\n",
       "    </tr>\n",
       "    <tr>\n",
       "      <th>4</th>\n",
       "      <td>34731.0</td>\n",
       "      <td>0</td>\n",
       "      <td>2</td>\n",
       "      <td>2</td>\n",
       "      <td>0.91</td>\n",
       "      <td>4</td>\n",
       "      <td>1</td>\n",
       "    </tr>\n",
       "  </tbody>\n",
       "</table>\n",
       "</div>"
      ],
      "text/plain": [
       "    salary  exprior  yearsworked  yearsrank  market  Field  yearsabs\n",
       "0  53000.0        0            0          0    1.17      3         0\n",
       "1  58000.0        1            0          0    1.24      2         0\n",
       "2  45500.0        0            0          0    1.21      3         2\n",
       "3  35782.0        0            2          1    0.99      4         1\n",
       "4  34731.0        0            2          2    0.91      4         1"
      ]
     },
     "execution_count": 2,
     "metadata": {},
     "output_type": "execute_result"
    }
   ],
   "source": [
    "df_salary = pd.read_csv(\"salary.csv\").dropna()\n",
    "\n",
    "df_salary = df_salary.drop(['degree','otherqual','position','male'], axis=1)\\\n",
    "\n",
    "df_salary.head()"
   ]
  },
  {
   "cell_type": "code",
   "execution_count": 3,
   "metadata": {},
   "outputs": [
    {
     "name": "stdout",
     "output_type": "stream",
     "text": [
      "(359, 7) (359,)\n",
      "(154, 7) (154,)\n"
     ]
    }
   ],
   "source": [
    "#defining the y variable\n",
    "y = df_salary.salary\n",
    "\n",
    "#splitting dataset into training and testing sets\n",
    "x_train, x_test, y_train, y_test = train_test_split(df_salary, y, test_size=0.3, random_state = 0)\n",
    "print(x_train.shape, y_train.shape)\n",
    "print(x_test.shape, y_test.shape)"
   ]
  },
  {
   "cell_type": "markdown",
   "metadata": {},
   "source": [
    "## Create scatterplots, histograms, and a descriptive statistics table of the variables of interest."
   ]
  },
  {
   "cell_type": "code",
   "execution_count": 4,
   "metadata": {},
   "outputs": [
    {
     "data": {
      "text/plain": [
       "<matplotlib.axes._subplots.AxesSubplot at 0x7fc1bc4171d0>"
      ]
     },
     "execution_count": 4,
     "metadata": {},
     "output_type": "execute_result"
    },
    {
     "data": {
      "image/png": "[encoded data removed]",
      "text/plain": [
       "<Figure size 1656x576 with 6 Axes>"
      ]
     },
     "metadata": {
      "needs_background": "light"
     },
     "output_type": "display_data"
    }
   ],
   "source": [
    "fig, axs = plt.subplots(1, 6, sharey=True)\n",
    "df_salary.plot(kind='scatter', x='exprior', y='salary', ax=axs[0], figsize=(23, 8))\n",
    "df_salary.plot(kind='scatter', x='yearsworked', y='salary', ax=axs[1])\n",
    "df_salary.plot(kind='scatter', x='yearsrank', y='salary', ax=axs[2])\n",
    "df_salary.plot(kind='scatter', x='Field', y='salary', ax=axs[3])\n",
    "df_salary.plot(kind='scatter', x='yearsabs', y='salary', ax=axs[4])\n",
    "df_salary.plot(kind='scatter', x='market', y='salary', ax=axs[5])"
   ]
  },
  {
   "cell_type": "code",
   "execution_count": 5,
   "metadata": {},
   "outputs": [
    {
     "data": {
      "text/plain": [
       "<matplotlib.axes._subplots.AxesSubplot at 0x7fc1bc21e978>"
      ]
     },
     "execution_count": 5,
     "metadata": {},
     "output_type": "execute_result"
    },
    {
     "data": {
      "image/png": "[encoded data removed]",
      "text/plain": [
       "<Figure size 1440x504 with 6 Axes>"
      ]
     },
     "metadata": {
      "needs_background": "light"
     },
     "output_type": "display_data"
    }
   ],
   "source": [
    "fig, axs = plt.subplots(1, 6, sharey=True)\n",
    "df_salary.plot(kind='hist', y='salary', ax=axs[0], figsize=(20, 7))\n",
    "df_salary.plot(kind='hist', y='exprior', ax=axs[1])\n",
    "df_salary.plot(kind='hist', y='yearsworked', ax=axs[2])\n",
    "df_salary.plot(kind='hist', y='yearsrank', ax=axs[3])\n",
    "df_salary.plot(kind='hist', y='market', ax=axs[4])\n",
    "df_salary.plot(kind='hist', y='yearsabs', ax=axs[5])"
   ]
  },
  {
   "cell_type": "code",
   "execution_count": 6,
   "metadata": {},
   "outputs": [
    {
     "data": {
      "text/html": [
       "<div>\n",
       "<style scoped>\n",
       "    .dataframe tbody tr th:only-of-type {\n",
       "        vertical-align: middle;\n",
       "    }\n",
       "\n",
       "    .dataframe tbody tr th {\n",
       "        vertical-align: top;\n",
       "    }\n",
       "\n",
       "    .dataframe thead th {\n",
       "        text-align: right;\n",
       "    }\n",
       "</style>\n",
       "<table border=\"1\" class=\"dataframe\">\n",
       "  <thead>\n",
       "    <tr style=\"text-align: right;\">\n",
       "      <th></th>\n",
       "      <th>salary</th>\n",
       "      <th>exprior</th>\n",
       "      <th>yearsworked</th>\n",
       "      <th>yearsrank</th>\n",
       "      <th>market</th>\n",
       "      <th>Field</th>\n",
       "      <th>yearsabs</th>\n",
       "    </tr>\n",
       "  </thead>\n",
       "  <tbody>\n",
       "    <tr>\n",
       "      <th>count</th>\n",
       "      <td>359.000000</td>\n",
       "      <td>359.000000</td>\n",
       "      <td>359.000000</td>\n",
       "      <td>359.000000</td>\n",
       "      <td>359.000000</td>\n",
       "      <td>359.000000</td>\n",
       "      <td>359.000000</td>\n",
       "    </tr>\n",
       "    <tr>\n",
       "      <th>mean</th>\n",
       "      <td>50621.754733</td>\n",
       "      <td>3.030641</td>\n",
       "      <td>12.838440</td>\n",
       "      <td>6.988858</td>\n",
       "      <td>0.945014</td>\n",
       "      <td>2.529248</td>\n",
       "      <td>7.206128</td>\n",
       "    </tr>\n",
       "    <tr>\n",
       "      <th>std</th>\n",
       "      <td>12695.639676</td>\n",
       "      <td>5.021925</td>\n",
       "      <td>9.438811</td>\n",
       "      <td>6.395694</td>\n",
       "      <td>0.146176</td>\n",
       "      <td>1.112954</td>\n",
       "      <td>16.778773</td>\n",
       "    </tr>\n",
       "    <tr>\n",
       "      <th>min</th>\n",
       "      <td>29000.000000</td>\n",
       "      <td>0.000000</td>\n",
       "      <td>0.000000</td>\n",
       "      <td>0.000000</td>\n",
       "      <td>0.710000</td>\n",
       "      <td>1.000000</td>\n",
       "      <td>0.000000</td>\n",
       "    </tr>\n",
       "    <tr>\n",
       "      <th>25%</th>\n",
       "      <td>39993.000000</td>\n",
       "      <td>0.000000</td>\n",
       "      <td>4.000000</td>\n",
       "      <td>2.000000</td>\n",
       "      <td>0.845000</td>\n",
       "      <td>2.000000</td>\n",
       "      <td>0.000000</td>\n",
       "    </tr>\n",
       "    <tr>\n",
       "      <th>50%</th>\n",
       "      <td>49357.000000</td>\n",
       "      <td>1.000000</td>\n",
       "      <td>11.000000</td>\n",
       "      <td>5.000000</td>\n",
       "      <td>0.920000</td>\n",
       "      <td>3.000000</td>\n",
       "      <td>1.000000</td>\n",
       "    </tr>\n",
       "    <tr>\n",
       "      <th>75%</th>\n",
       "      <td>60171.500000</td>\n",
       "      <td>4.000000</td>\n",
       "      <td>21.500000</td>\n",
       "      <td>11.500000</td>\n",
       "      <td>1.000000</td>\n",
       "      <td>4.000000</td>\n",
       "      <td>2.000000</td>\n",
       "    </tr>\n",
       "    <tr>\n",
       "      <th>max</th>\n",
       "      <td>96156.000000</td>\n",
       "      <td>25.000000</td>\n",
       "      <td>41.000000</td>\n",
       "      <td>28.000000</td>\n",
       "      <td>1.330000</td>\n",
       "      <td>4.000000</td>\n",
       "      <td>118.000000</td>\n",
       "    </tr>\n",
       "  </tbody>\n",
       "</table>\n",
       "</div>"
      ],
      "text/plain": [
       "             salary     exprior  yearsworked   yearsrank      market  \\\n",
       "count    359.000000  359.000000   359.000000  359.000000  359.000000   \n",
       "mean   50621.754733    3.030641    12.838440    6.988858    0.945014   \n",
       "std    12695.639676    5.021925     9.438811    6.395694    0.146176   \n",
       "min    29000.000000    0.000000     0.000000    0.000000    0.710000   \n",
       "25%    39993.000000    0.000000     4.000000    2.000000    0.845000   \n",
       "50%    49357.000000    1.000000    11.000000    5.000000    0.920000   \n",
       "75%    60171.500000    4.000000    21.500000   11.500000    1.000000   \n",
       "max    96156.000000   25.000000    41.000000   28.000000    1.330000   \n",
       "\n",
       "            Field    yearsabs  \n",
       "count  359.000000  359.000000  \n",
       "mean     2.529248    7.206128  \n",
       "std      1.112954   16.778773  \n",
       "min      1.000000    0.000000  \n",
       "25%      2.000000    0.000000  \n",
       "50%      3.000000    1.000000  \n",
       "75%      4.000000    2.000000  \n",
       "max      4.000000  118.000000  "
      ]
     },
     "execution_count": 6,
     "metadata": {},
     "output_type": "execute_result"
    }
   ],
   "source": [
    "# Statistic summary table\n",
    "x_train.describe()"
   ]
  },
  {
   "cell_type": "markdown",
   "metadata": {},
   "source": [
    "### One-hot encode the variable Field into three dummy variables, using HR as the reference category. You can use pandas' get_dummies() function for this."
   ]
  },
  {
   "cell_type": "code",
   "execution_count": 7,
   "metadata": {},
   "outputs": [
    {
     "data": {
      "text/html": [
       "<div>\n",
       "<style scoped>\n",
       "    .dataframe tbody tr th:only-of-type {\n",
       "        vertical-align: middle;\n",
       "    }\n",
       "\n",
       "    .dataframe tbody tr th {\n",
       "        vertical-align: top;\n",
       "    }\n",
       "\n",
       "    .dataframe thead th {\n",
       "        text-align: right;\n",
       "    }\n",
       "</style>\n",
       "<table border=\"1\" class=\"dataframe\">\n",
       "  <thead>\n",
       "    <tr style=\"text-align: right;\">\n",
       "      <th></th>\n",
       "      <th>1</th>\n",
       "      <th>2</th>\n",
       "      <th>3</th>\n",
       "      <th>4</th>\n",
       "    </tr>\n",
       "  </thead>\n",
       "  <tbody>\n",
       "    <tr>\n",
       "      <th>141</th>\n",
       "      <td>1</td>\n",
       "      <td>0</td>\n",
       "      <td>0</td>\n",
       "      <td>0</td>\n",
       "    </tr>\n",
       "    <tr>\n",
       "      <th>419</th>\n",
       "      <td>0</td>\n",
       "      <td>1</td>\n",
       "      <td>0</td>\n",
       "      <td>0</td>\n",
       "    </tr>\n",
       "    <tr>\n",
       "      <th>135</th>\n",
       "      <td>1</td>\n",
       "      <td>0</td>\n",
       "      <td>0</td>\n",
       "      <td>0</td>\n",
       "    </tr>\n",
       "    <tr>\n",
       "      <th>386</th>\n",
       "      <td>0</td>\n",
       "      <td>0</td>\n",
       "      <td>1</td>\n",
       "      <td>0</td>\n",
       "    </tr>\n",
       "    <tr>\n",
       "      <th>122</th>\n",
       "      <td>0</td>\n",
       "      <td>1</td>\n",
       "      <td>0</td>\n",
       "      <td>0</td>\n",
       "    </tr>\n",
       "  </tbody>\n",
       "</table>\n",
       "</div>"
      ],
      "text/plain": [
       "     1  2  3  4\n",
       "141  1  0  0  0\n",
       "419  0  1  0  0\n",
       "135  1  0  0  0\n",
       "386  0  0  1  0\n",
       "122  0  1  0  0"
      ]
     },
     "execution_count": 7,
     "metadata": {},
     "output_type": "execute_result"
    }
   ],
   "source": [
    "xg = x_train['Field']\n",
    "pd.get_dummies(xg).head()"
   ]
  },
  {
   "cell_type": "markdown",
   "metadata": {},
   "source": [
    "### Produce a correlation matrix comparing the relationship of salary to the predictor variables. Is there any multicollinearity or other problems that may be a problem in the multiple regression?"
   ]
  },
  {
   "cell_type": "code",
   "execution_count": 8,
   "metadata": {},
   "outputs": [
    {
     "data": {
      "text/html": [
       "<div>\n",
       "<style scoped>\n",
       "    .dataframe tbody tr th:only-of-type {\n",
       "        vertical-align: middle;\n",
       "    }\n",
       "\n",
       "    .dataframe tbody tr th {\n",
       "        vertical-align: top;\n",
       "    }\n",
       "\n",
       "    .dataframe thead th {\n",
       "        text-align: right;\n",
       "    }\n",
       "</style>\n",
       "<table border=\"1\" class=\"dataframe\">\n",
       "  <thead>\n",
       "    <tr style=\"text-align: right;\">\n",
       "      <th></th>\n",
       "      <th>salary</th>\n",
       "      <th>exprior</th>\n",
       "      <th>yearsworked</th>\n",
       "      <th>yearsrank</th>\n",
       "      <th>market</th>\n",
       "      <th>Field</th>\n",
       "      <th>yearsabs</th>\n",
       "    </tr>\n",
       "  </thead>\n",
       "  <tbody>\n",
       "    <tr>\n",
       "      <th>salary</th>\n",
       "      <td>1.000000</td>\n",
       "      <td>0.101222</td>\n",
       "      <td>0.617879</td>\n",
       "      <td>0.587081</td>\n",
       "      <td>0.410094</td>\n",
       "      <td>-0.507539</td>\n",
       "      <td>-0.090337</td>\n",
       "    </tr>\n",
       "    <tr>\n",
       "      <th>exprior</th>\n",
       "      <td>0.101222</td>\n",
       "      <td>1.000000</td>\n",
       "      <td>-0.286998</td>\n",
       "      <td>-0.107656</td>\n",
       "      <td>-0.030270</td>\n",
       "      <td>-0.055385</td>\n",
       "      <td>0.116050</td>\n",
       "    </tr>\n",
       "    <tr>\n",
       "      <th>yearsworked</th>\n",
       "      <td>0.617879</td>\n",
       "      <td>-0.286998</td>\n",
       "      <td>1.000000</td>\n",
       "      <td>0.807174</td>\n",
       "      <td>-0.044923</td>\n",
       "      <td>-0.276619</td>\n",
       "      <td>0.037338</td>\n",
       "    </tr>\n",
       "    <tr>\n",
       "      <th>yearsrank</th>\n",
       "      <td>0.587081</td>\n",
       "      <td>-0.107656</td>\n",
       "      <td>0.807174</td>\n",
       "      <td>1.000000</td>\n",
       "      <td>-0.027099</td>\n",
       "      <td>-0.287598</td>\n",
       "      <td>0.074206</td>\n",
       "    </tr>\n",
       "    <tr>\n",
       "      <th>market</th>\n",
       "      <td>0.410094</td>\n",
       "      <td>-0.030270</td>\n",
       "      <td>-0.044923</td>\n",
       "      <td>-0.027099</td>\n",
       "      <td>1.000000</td>\n",
       "      <td>-0.213808</td>\n",
       "      <td>-0.174091</td>\n",
       "    </tr>\n",
       "    <tr>\n",
       "      <th>Field</th>\n",
       "      <td>-0.507539</td>\n",
       "      <td>-0.055385</td>\n",
       "      <td>-0.276619</td>\n",
       "      <td>-0.287598</td>\n",
       "      <td>-0.213808</td>\n",
       "      <td>1.000000</td>\n",
       "      <td>-0.001969</td>\n",
       "    </tr>\n",
       "    <tr>\n",
       "      <th>yearsabs</th>\n",
       "      <td>-0.090337</td>\n",
       "      <td>0.116050</td>\n",
       "      <td>0.037338</td>\n",
       "      <td>0.074206</td>\n",
       "      <td>-0.174091</td>\n",
       "      <td>-0.001969</td>\n",
       "      <td>1.000000</td>\n",
       "    </tr>\n",
       "  </tbody>\n",
       "</table>\n",
       "</div>"
      ],
      "text/plain": [
       "               salary   exprior  yearsworked  yearsrank    market     Field  \\\n",
       "salary       1.000000  0.101222     0.617879   0.587081  0.410094 -0.507539   \n",
       "exprior      0.101222  1.000000    -0.286998  -0.107656 -0.030270 -0.055385   \n",
       "yearsworked  0.617879 -0.286998     1.000000   0.807174 -0.044923 -0.276619   \n",
       "yearsrank    0.587081 -0.107656     0.807174   1.000000 -0.027099 -0.287598   \n",
       "market       0.410094 -0.030270    -0.044923  -0.027099  1.000000 -0.213808   \n",
       "Field       -0.507539 -0.055385    -0.276619  -0.287598 -0.213808  1.000000   \n",
       "yearsabs    -0.090337  0.116050     0.037338   0.074206 -0.174091 -0.001969   \n",
       "\n",
       "             yearsabs  \n",
       "salary      -0.090337  \n",
       "exprior      0.116050  \n",
       "yearsworked  0.037338  \n",
       "yearsrank    0.074206  \n",
       "market      -0.174091  \n",
       "Field       -0.001969  \n",
       "yearsabs     1.000000  "
      ]
     },
     "execution_count": 8,
     "metadata": {},
     "output_type": "execute_result"
    }
   ],
   "source": [
    "x_train.corr()"
   ]
  },
  {
   "cell_type": "code",
   "execution_count": 9,
   "metadata": {},
   "outputs": [
    {
     "data": {
      "text/plain": [
       "<matplotlib.axes._subplots.AxesSubplot at 0x7fc1bc027fd0>"
      ]
     },
     "execution_count": 9,
     "metadata": {},
     "output_type": "execute_result"
    },
    {
     "data": {
      "image/png": "[encoded data removed]",
      "text/plain": [
       "<Figure size 720x360 with 2 Axes>"
      ]
     },
     "metadata": {
      "needs_background": "light"
     },
     "output_type": "display_data"
    }
   ],
   "source": [
    "plt.figure(figsize=(10,5))\n",
    "           \n",
    "sns.heatmap(x_train.corr())"
   ]
  },
  {
   "cell_type": "markdown",
   "metadata": {},
   "source": [
    "### Run the multiple linear regression and interpret the standardised coefficients given in the statsmodels output. What are the most important features when predicting employee salary?"
   ]
  },
  {
   "cell_type": "code",
   "execution_count": 10,
   "metadata": {},
   "outputs": [
    {
     "name": "stdout",
     "output_type": "stream",
     "text": [
      "Intercept      12228.738738\n",
      "exprior          723.587362\n",
      "yearsworked      765.919272\n",
      "yearsrank        222.153384\n",
      "market         33466.535359\n",
      "Field          -2506.906084\n",
      "yearsabs         -65.427598\n",
      "dtype: float64\n"
     ]
    }
   ],
   "source": [
    "#created a fitted model in one line\n",
    "l_model = smf.ols(formula='salary ~ exprior + yearsworked + yearsrank + market + Field + yearsabs', data=x_train).fit()\n",
    "\n",
    "#print the coefficients\n",
    "print(l_model.params)\n",
    "#print(l_model.summary())"
   ]
  },
  {
   "cell_type": "markdown",
   "metadata": {},
   "source": [
    "### Calculate the standardised residuals (resid()) and standardised predicted values (fittedvalues())."
   ]
  },
  {
   "cell_type": "code",
   "execution_count": 11,
   "metadata": {},
   "outputs": [
    {
     "name": "stdout",
     "output_type": "stream",
     "text": [
      "predictions: (359,) \n",
      "residuals: (359,)\n"
     ]
    }
   ],
   "source": [
    "predictions = l_model.predict()\n",
    "residuals = l_model.resid\n",
    "print('predictions:', predictions.shape,'\\nresiduals:', residuals.shape)"
   ]
  },
  {
   "cell_type": "markdown",
   "metadata": {},
   "source": [
    "### Plot the residuals versus the predicted values using seaborn's residplot with fitted values as the x parameter, and the dependent variable as y. lowess=True."
   ]
  },
  {
   "cell_type": "code",
   "execution_count": null,
   "metadata": {},
   "outputs": [],
   "source": []
  },
  {
   "cell_type": "markdown",
   "metadata": {},
   "source": [
    "## Run your model on the test set."
   ]
  },
  {
   "cell_type": "code",
   "execution_count": 12,
   "metadata": {},
   "outputs": [
    {
     "name": "stdout",
     "output_type": "stream",
     "text": [
      "Intercept      10278.020136\n",
      "exprior          801.267537\n",
      "yearsworked      737.832536\n",
      "yearsrank        312.038260\n",
      "market         34609.169687\n",
      "Field          -2226.236604\n",
      "yearsabs         -35.437780\n",
      "dtype: float64\n"
     ]
    }
   ],
   "source": [
    "#created a fitted model in one line\n",
    "l_model = smf.ols(formula='salary ~ exprior + yearsworked + yearsrank + market + Field + yearsabs', data=x_test).fit()\n",
    "\n",
    "#print the coefficients\n",
    "print(l_model.params)\n",
    "#print(l_model.summary())"
   ]
  },
  {
   "cell_type": "markdown",
   "metadata": {},
   "source": [
    "### How does your model compare when running it on the test set - what is the difference in the Root Mean Square Error (RMSE) between the training and test sets?"
   ]
  },
  {
   "cell_type": "code",
   "execution_count": 13,
   "metadata": {},
   "outputs": [
    {
     "name": "stdout",
     "output_type": "stream",
     "text": [
      "5975.7832677591505\n",
      "6733.171410695806\n"
     ]
    }
   ],
   "source": [
    "from sklearn import metrics\n",
    "prediction = l_model.predict(x_test)\n",
    "print(np.sqrt(metrics.mean_squared_error(y_test, prediction)))\n",
    "\n",
    "prediction1 = l_model.predict(x_train)\n",
    "print(np.sqrt(metrics.mean_squared_error(y_train, prediction1)))"
   ]
  },
  {
   "cell_type": "code",
   "execution_count": null,
   "metadata": {},
   "outputs": [],
   "source": []
  }
 ],
 "metadata": {
  "kernelspec": {
   "display_name": "Python 3",
   "language": "python",
   "name": "python3"
  },
  "language_info": {
   "codemirror_mode": {
    "name": "ipython",
    "version": 3
   },
   "file_extension": ".py",
   "mimetype": "text/x-python",
   "name": "python",
   "nbconvert_exporter": "python",
   "pygments_lexer": "ipython3",
   "version": "3.6.5"
  }
 },
 "nbformat": 4,
 "nbformat_minor": 2
}
